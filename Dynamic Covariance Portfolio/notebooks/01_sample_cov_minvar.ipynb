{
 "cells": [
  {
   "cell_type": "code",
   "execution_count": 7,
   "id": "5e455204",
   "metadata": {},
   "outputs": [
    {
     "name": "stderr",
     "output_type": "stream",
     "text": [
      "[*********************100%***********************]  3 of 3 completed"
     ]
    },
    {
     "name": "stdout",
     "output_type": "stream",
     "text": [
      "(3, 3)\n"
     ]
    },
    {
     "name": "stderr",
     "output_type": "stream",
     "text": [
      "\n"
     ]
    }
   ],
   "source": [
    "import sys\n",
    "sys.path.append('../src')\n",
    "import numpy as np\n",
    "\n",
    "\n",
    "from utils import load_data, calculate_returns\n",
    "from covariance import sample_cov\n",
    "\n",
    "# Load data\n",
    "prices = load_data(['AAPL', 'MSFT', 'GOOGL'], '2022-01-01', '2023-12-31')\n",
    "returns = calculate_returns(prices)\n",
    "\n",
    "# Calculate covariance\n",
    "cov_mat = sample_cov(returns)\n",
    "print(cov_mat.shape)  # Should be (3, 3) for 3 stocks"
   ]
  },
  {
   "cell_type": "markdown",
   "id": "4d0d7d22",
   "metadata": {},
   "source": [
    "# What's in this covariance matrix?"
   ]
  },
  {
   "cell_type": "code",
   "execution_count": 2,
   "id": "2926ec26",
   "metadata": {},
   "outputs": [
    {
     "name": "stdout",
     "output_type": "stream",
     "text": [
      "\n",
      "Annualized Covariance Matrix:\n",
      "[[0.0845387  0.07143938 0.06618633]\n",
      " [0.07143938 0.12166652 0.07818557]\n",
      " [0.06618633 0.07818557 0.09440747]]\n",
      "\n",
      "Matrix shape: (3, 3)\n"
     ]
    }
   ],
   "source": [
    "print(\"\\nAnnualized Covariance Matrix:\")\n",
    "print(cov_mat)\n",
    "print(f\"\\nMatrix shape: {cov_mat.shape}\")"
   ]
  },
  {
   "cell_type": "markdown",
   "id": "5ce69bc1",
   "metadata": {},
   "source": [
    "# Let's make it more readable with labels"
   ]
  },
  {
   "cell_type": "code",
   "execution_count": 3,
   "id": "dcbb36bb",
   "metadata": {},
   "outputs": [
    {
     "name": "stdout",
     "output_type": "stream",
     "text": [
      "\n",
      "Covariance Matrix with labels:\n",
      "         AAPL    MSFT   GOOGL\n",
      "AAPL   0.0845  0.0714  0.0662\n",
      "MSFT   0.0714  0.1217  0.0782\n",
      "GOOGL  0.0662  0.0782  0.0944\n"
     ]
    }
   ],
   "source": [
    "import pandas as pd\n",
    "tickers = ['AAPL', 'MSFT', 'GOOGL']\n",
    "cov_df = pd.DataFrame(cov_mat, index=tickers, columns=tickers)\n",
    "print(\"\\nCovariance Matrix with labels:\")\n",
    "print(cov_df.round(4))"
   ]
  },
  {
   "cell_type": "markdown",
   "id": "d192923d",
   "metadata": {},
   "source": [
    "# What do the diagonal values represent?"
   ]
  },
  {
   "cell_type": "code",
   "execution_count": 5,
   "id": "2611b0ef",
   "metadata": {},
   "outputs": [
    {
     "name": "stdout",
     "output_type": "stream",
     "text": [
      "\n",
      "Variances (diagonal):\n",
      "AAPL: 0.0845\n",
      "MSFT: 0.1217\n",
      "GOOGL: 0.0944\n"
     ]
    }
   ],
   "source": [
    "print(\"\\nVariances (diagonal):\")\n",
    "for i, ticker in enumerate(tickers):\n",
    "    print(f\"{ticker}: {cov_mat[i,i]:.4f}\")"
   ]
  },
  {
   "cell_type": "markdown",
   "id": "12a03e95",
   "metadata": {},
   "source": [
    "# Convert variance to volatility (standard deviation)"
   ]
  },
  {
   "cell_type": "code",
   "execution_count": 8,
   "id": "30efca66",
   "metadata": {},
   "outputs": [
    {
     "name": "stdout",
     "output_type": "stream",
     "text": [
      "\n",
      "Annualized Volatility:\n",
      "AAPL: 29.08%\n",
      "MSFT: 34.88%\n",
      "GOOGL: 30.73%\n"
     ]
    }
   ],
   "source": [
    "print(\"\\nAnnualized Volatility:\")\n",
    "for i, ticker in enumerate(tickers):\n",
    "    vol = np.sqrt(cov_mat[i,i])\n",
    "    print(f\"{ticker}: {vol:.2%}\")"
   ]
  }
 ],
 "metadata": {
  "kernelspec": {
   "display_name": ".venv",
   "language": "python",
   "name": "python3"
  },
  "language_info": {
   "codemirror_mode": {
    "name": "ipython",
    "version": 3
   },
   "file_extension": ".py",
   "mimetype": "text/x-python",
   "name": "python",
   "nbconvert_exporter": "python",
   "pygments_lexer": "ipython3",
   "version": "3.11.9"
  }
 },
 "nbformat": 4,
 "nbformat_minor": 5
}
